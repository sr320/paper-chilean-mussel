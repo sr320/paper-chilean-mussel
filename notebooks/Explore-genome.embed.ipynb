{
 "cells": [
  {
   "cell_type": "markdown",
   "metadata": {},
   "source": [
    "# Site Info\n",
    "\n",
    "![](http://gannet.fish.washington.edu/seashell/snaps/Monosnap_genes-2291516-supplementary.pdf_2025-08-13_09-37-33.png)"
   ],
   "id": "ac41a120-ddbd-40be-b319-668140e7b7ac"
  }
 ],
 "nbformat": 4,
 "nbformat_minor": 5,
 "metadata": {}
}
