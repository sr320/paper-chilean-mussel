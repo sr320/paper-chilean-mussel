{
 "cells": [
  {
   "cell_type": "markdown",
   "metadata": {},
   "source": [
    "# Site Info\n",
    "\n",
    "![](http://gannet.fish.washington.edu/seashell/snaps/Monosnap_genes-2291516-supplementary.pdf_2025-08-13_09-37-33.png)"
   ],
   "id": "7746212e-e7a9-4ec1-81af-f762fa85a01d"
  }
 ],
 "nbformat": 4,
 "nbformat_minor": 5,
 "metadata": {}
}
