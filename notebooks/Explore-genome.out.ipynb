{
 "cells": [
  {
   "cell_type": "markdown",
   "metadata": {},
   "source": [
    "# Site Info\n",
    "\n",
    "![](http://gannet.fish.washington.edu/seashell/snaps/Monosnap_genes-2291516-supplementary.pdf_2025-08-13_09-37-33.png)"
   ],
   "id": "9d80d2a0-d7a3-4605-a4ec-617096310066"
  }
 ],
 "nbformat": 4,
 "nbformat_minor": 5,
 "metadata": {}
}
