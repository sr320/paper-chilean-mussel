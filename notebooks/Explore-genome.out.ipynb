{
 "cells": [
  {
   "cell_type": "markdown",
   "metadata": {},
   "source": [
    "# Site Info\n",
    "\n",
    "![](http://gannet.fish.washington.edu/seashell/snaps/Monosnap_genes-2291516-supplementary.pdf_2025-08-13_09-37-33.png)"
   ],
   "id": "f79948a8-3ee9-4b17-940d-24bec3ff2d32"
  }
 ],
 "nbformat": 4,
 "nbformat_minor": 5,
 "metadata": {}
}
